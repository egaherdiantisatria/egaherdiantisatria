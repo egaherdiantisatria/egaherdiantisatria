{
 "cells": [
  {
   "cell_type": "code",
   "execution_count": 2,
   "metadata": {
    "collapsed": false
   },
   "outputs": [
    {
     "name": "stdout",
     "output_type": "stream",
     "text": [
      "[]\n"
     ]
    }
   ],
   "source": [
    "def linearSearch(list,item):\n",
    "    pos = []\n",
    "    \n",
    "    for i in range (0,len(list)):\n",
    "        if list[i]==item:\n",
    "            pos.append(i)\n",
    "            \n",
    "    return pos\n",
    "List=[1,2,1,2,32,8,17,19,43,13,0]\n",
    "LinearSearch=linearSearch(List,3)\n",
    "print (LinearSearch)"
   ]
  },
  {
   "cell_type": "code",
   "execution_count": 0,
   "metadata": {
    "collapsed": false
   },
   "outputs": [
   ],
   "source": [
   ]
  },
  {
   "cell_type": "code",
   "execution_count": 10,
   "metadata": {
    "collapsed": false
   },
   "outputs": [
    {
     "name": "stdout",
     "output_type": "stream",
     "text": [
      "[0, 2, 8, 14, 14, 15, 18, 18, 19, 19]\n",
      "belum ditemukan\n",
      "belum ditemukan\n",
      "('Jumlah iterasi bilangan tersebut dari depan ada= ', 3)\n"
     ]
    }
   ],
   "source": [
    "list= [15,18,2,19,18,0,8,14,19,14]\n",
    "for j in range (0,10):\n",
    "    for i in range (0,9):\n",
    "        if list[i]>=list[i+1]:\n",
    "            swap=list[i]\n",
    "            list[i]=list[i+1]\n",
    "            list[i+1]=swap\n",
    "print(list)\n",
    "search = 8\n",
    "position=0\n",
    "last=len(list)-1\n",
    "found=0\n",
    "while position<=last and not found:\n",
    "    if list[position]==search:\n",
    "        found=1\n",
    "    else:\n",
    "        position=position+1\n",
    "    if found:\n",
    "        jumlah_iterasi=position+1\n",
    "        print(\"Jumlah iterasi bilangan tersebut dari depan ada= \", jumlah_iterasi)\n",
    "    else:\n",
    "        print(\"belum ditemukan\")\n",
    "if not found: \n",
    "   print(\"jumlah iterasi= \",len(list))\n",
    "\n"
   ]
  },
  {
   "cell_type": "code",
   "execution_count": 9,
   "metadata": {
    "collapsed": false
   },
   "outputs": [
    {
     "name": "stdout",
     "output_type": "stream",
     "text": [
      "[0, 2, 8, 14, 14, 15, 18, 18, 19, 19]\n",
      "belum ditemukan\n",
      "belum ditemukan\n",
      "belum ditemukan\n",
      "belum ditemukan\n",
      "belum ditemukan\n",
      "belum ditemukan\n",
      "belum ditemukan\n",
      "belum ditemukan\n",
      "belum ditemukan\n",
      "belum ditemukan\n",
      "('jumlah iterasi= ', 10)\n"
     ]
    }
   ],
   "source": [
    "list= [15,18,2,19,18,0,8,14,19,14]\n",
    "for j in range (0,10):\n",
    "    for i in range (0,9):\n",
    "        if list[i]>=list[i+1]:\n",
    "            swap=list[i]\n",
    "            list[i]=list[i+1]\n",
    "            list[i+1]=swap\n",
    "print(list)\n",
    "search = 7\n",
    "position=0\n",
    "last=len(list)-1\n",
    "found=0\n",
    "while position<=last and not found:\n",
    "    if list[position]==search:\n",
    "        found=1\n",
    "    else:\n",
    "        position=position+1\n",
    "    if found:\n",
    "        jumlah_iterasi=position+1\n",
    "        print(\"Jumlah iterasi bilangan tersebut dari depan ada= \", jumlah_iterasi)\n",
    "    else:\n",
    "        print(\"belum ditemukan\")\n",
    "if not found: \n",
    "   print(\"jumlah iterasi= \",len(list))"
   ]
  },
  {
   "cell_type": "code",
   "execution_count": 0,
   "metadata": {
    "collapsed": false
   },
   "outputs": [
   ],
   "source": [
   ]
  },
  {
   "cell_type": "code",
   "execution_count": 55,
   "metadata": {
    "cocalc": {
     "outputs": {
      "1": {
       "name": "input",
       "opts": {
        "password": false,
        "prompt": "masukkan angka yang dicari"
       },
       "output_type": "stream"
      }
     }
    },
    "collapsed": false,
    "scrolled": true
   },
   "outputs": [
    {
     "name": "stdout",
     "output_type": "stream",
     "text": [
      "[0, 2, 8, 14, 14, 15, 18, 18, 19, 19]\n"
     ]
    },
    {
     "name": "stdout",
     "output_type": "stream",
     "text": "masukkan angka yang dicari "
    },
    {
     "ename": "KeyboardInterrupt",
     "evalue": "",
     "output_type": "error",
     "traceback": [
      "\u001b[0;31m---------------------------------------------------------------------------\u001b[0m",
      "\u001b[0;31mKeyboardInterrupt\u001b[0m                         Traceback (most recent call last)",
      "\u001b[0;32m<ipython-input-55-c16cc980921b>\u001b[0m in \u001b[0;36m<module>\u001b[0;34m()\u001b[0m\n\u001b[1;32m      7\u001b[0m             \u001b[0mlist\u001b[0m\u001b[0;34m[\u001b[0m\u001b[0mi\u001b[0m\u001b[0;34m+\u001b[0m\u001b[0mInteger\u001b[0m\u001b[0;34m(\u001b[0m\u001b[0;36m1\u001b[0m\u001b[0;34m)\u001b[0m\u001b[0;34m]\u001b[0m\u001b[0;34m=\u001b[0m\u001b[0mswap\u001b[0m\u001b[0;34m\u001b[0m\u001b[0m\n\u001b[1;32m      8\u001b[0m \u001b[0;32mprint\u001b[0m\u001b[0;34m(\u001b[0m\u001b[0mlist\u001b[0m\u001b[0;34m)\u001b[0m\u001b[0;34m\u001b[0m\u001b[0m\n\u001b[0;32m----> 9\u001b[0;31m \u001b[0msearch\u001b[0m \u001b[0;34m=\u001b[0m \u001b[0mint\u001b[0m\u001b[0;34m(\u001b[0m\u001b[0minput\u001b[0m\u001b[0;34m(\u001b[0m\u001b[0;34m\"masukkan angka yang dicari\"\u001b[0m\u001b[0;34m)\u001b[0m\u001b[0;34m)\u001b[0m\u001b[0;34m\u001b[0m\u001b[0m\n\u001b[0m\u001b[1;32m     10\u001b[0m \u001b[0mposition\u001b[0m\u001b[0;34m=\u001b[0m\u001b[0mInteger\u001b[0m\u001b[0;34m(\u001b[0m\u001b[0;36m0\u001b[0m\u001b[0;34m)\u001b[0m\u001b[0;34m\u001b[0m\u001b[0m\n\u001b[1;32m     11\u001b[0m \u001b[0mlast\u001b[0m\u001b[0;34m=\u001b[0m\u001b[0mlen\u001b[0m\u001b[0;34m(\u001b[0m\u001b[0mlist\u001b[0m\u001b[0;34m)\u001b[0m\u001b[0;34m-\u001b[0m\u001b[0mInteger\u001b[0m\u001b[0;34m(\u001b[0m\u001b[0;36m1\u001b[0m\u001b[0;34m)\u001b[0m\u001b[0;34m\u001b[0m\u001b[0m\n",
      "\u001b[0;32m/ext/sage/sage-8.6_1804/local/lib/python2.7/site-packages/ipykernel/ipkernel.pyc\u001b[0m in \u001b[0;36m<lambda>\u001b[0;34m(prompt)\u001b[0m\n\u001b[1;32m    174\u001b[0m             \u001b[0mself\u001b[0m\u001b[0;34m.\u001b[0m\u001b[0m_sys_eval_input\u001b[0m \u001b[0;34m=\u001b[0m \u001b[0mbuiltin_mod\u001b[0m\u001b[0;34m.\u001b[0m\u001b[0minput\u001b[0m\u001b[0;34m\u001b[0m\u001b[0m\n\u001b[1;32m    175\u001b[0m             \u001b[0mbuiltin_mod\u001b[0m\u001b[0;34m.\u001b[0m\u001b[0mraw_input\u001b[0m \u001b[0;34m=\u001b[0m \u001b[0mself\u001b[0m\u001b[0;34m.\u001b[0m\u001b[0mraw_input\u001b[0m\u001b[0;34m\u001b[0m\u001b[0m\n\u001b[0;32m--> 176\u001b[0;31m             \u001b[0mbuiltin_mod\u001b[0m\u001b[0;34m.\u001b[0m\u001b[0minput\u001b[0m \u001b[0;34m=\u001b[0m \u001b[0;32mlambda\u001b[0m \u001b[0mprompt\u001b[0m\u001b[0;34m=\u001b[0m\u001b[0;34m''\u001b[0m\u001b[0;34m:\u001b[0m \u001b[0meval\u001b[0m\u001b[0;34m(\u001b[0m\u001b[0mself\u001b[0m\u001b[0;34m.\u001b[0m\u001b[0mraw_input\u001b[0m\u001b[0;34m(\u001b[0m\u001b[0mprompt\u001b[0m\u001b[0;34m)\u001b[0m\u001b[0;34m)\u001b[0m\u001b[0;34m\u001b[0m\u001b[0m\n\u001b[0m\u001b[1;32m    177\u001b[0m         \u001b[0mself\u001b[0m\u001b[0;34m.\u001b[0m\u001b[0m_save_getpass\u001b[0m \u001b[0;34m=\u001b[0m \u001b[0mgetpass\u001b[0m\u001b[0;34m.\u001b[0m\u001b[0mgetpass\u001b[0m\u001b[0;34m\u001b[0m\u001b[0m\n\u001b[1;32m    178\u001b[0m         \u001b[0mgetpass\u001b[0m\u001b[0;34m.\u001b[0m\u001b[0mgetpass\u001b[0m \u001b[0;34m=\u001b[0m \u001b[0mself\u001b[0m\u001b[0;34m.\u001b[0m\u001b[0mgetpass\u001b[0m\u001b[0;34m\u001b[0m\u001b[0m\n",
      "\u001b[0;32m/ext/sage/sage-8.6_1804/local/lib/python2.7/site-packages/ipykernel/kernelbase.pyc\u001b[0m in \u001b[0;36mraw_input\u001b[0;34m(self, prompt)\u001b[0m\n\u001b[1;32m    702\u001b[0m             \u001b[0mself\u001b[0m\u001b[0;34m.\u001b[0m\u001b[0m_parent_ident\u001b[0m\u001b[0;34m,\u001b[0m\u001b[0;34m\u001b[0m\u001b[0m\n\u001b[1;32m    703\u001b[0m             \u001b[0mself\u001b[0m\u001b[0;34m.\u001b[0m\u001b[0m_parent_header\u001b[0m\u001b[0;34m,\u001b[0m\u001b[0;34m\u001b[0m\u001b[0m\n\u001b[0;32m--> 704\u001b[0;31m             \u001b[0mpassword\u001b[0m\u001b[0;34m=\u001b[0m\u001b[0mFalse\u001b[0m\u001b[0;34m,\u001b[0m\u001b[0;34m\u001b[0m\u001b[0m\n\u001b[0m\u001b[1;32m    705\u001b[0m         )\n\u001b[1;32m    706\u001b[0m \u001b[0;34m\u001b[0m\u001b[0m\n",
      "\u001b[0;32m/ext/sage/sage-8.6_1804/local/lib/python2.7/site-packages/ipykernel/kernelbase.pyc\u001b[0m in \u001b[0;36m_input_request\u001b[0;34m(self, prompt, ident, parent, password)\u001b[0m\n\u001b[1;32m    732\u001b[0m             \u001b[0;32mexcept\u001b[0m \u001b[0mKeyboardInterrupt\u001b[0m\u001b[0;34m:\u001b[0m\u001b[0;34m\u001b[0m\u001b[0m\n\u001b[1;32m    733\u001b[0m                 \u001b[0;31m# re-raise KeyboardInterrupt, to truncate traceback\u001b[0m\u001b[0;34m\u001b[0m\u001b[0;34m\u001b[0m\u001b[0m\n\u001b[0;32m--> 734\u001b[0;31m                 \u001b[0;32mraise\u001b[0m \u001b[0mKeyboardInterrupt\u001b[0m\u001b[0;34m\u001b[0m\u001b[0m\n\u001b[0m\u001b[1;32m    735\u001b[0m             \u001b[0;32melse\u001b[0m\u001b[0;34m:\u001b[0m\u001b[0;34m\u001b[0m\u001b[0m\n\u001b[1;32m    736\u001b[0m                 \u001b[0;32mbreak\u001b[0m\u001b[0;34m\u001b[0m\u001b[0m\n",
      "\u001b[0;31mKeyboardInterrupt\u001b[0m: "
     ]
    }
   ],
   "source": [
    "list= [15,18,2,19,18,0,8,14,19,14]\n",
    "for j in range (0,10):\n",
    "    for i in range (0,9):\n",
    "        if list[i]>=list[i+1]:\n",
    "            swap=list[i]\n",
    "            list[i]=list[i+1]\n",
    "            list[i+1]=swap\n",
    "print(list)\n",
    "search = 7\n",
    "position=0\n",
    "last=len(list)-1\n",
    "found=0\n",
    "while position<=last and not found:\n",
    "    if list[position]>=search:\n",
    "        found=1\n",
    "    else:\n",
    "        position=position+1\n",
    "    if found:\n",
    "        jumlah_iterasi=position+1\n",
    "        print(\"Jumlah iterasi bilangan tersebut dari depan ada= \", jumlah_iterasi)\n",
    "    else:\n",
    "        print(\"belum ditemukan\")\n",
    "\n"
   ]
  },
  {
   "cell_type": "code",
   "execution_count": 21,
   "metadata": {
    "cocalc": {
     "outputs": {
      "0": {
       "name": "input",
       "opts": {
        "password": false,
        "prompt": "enter a number"
       },
       "output_type": "stream",
       "value": "2,1,3,4,5"
      }
     }
    },
    "collapsed": false
   },
   "outputs": [
    {
     "name": "stdout",
     "output_type": "stream",
     "text": "enter a number 2,1,3,4,5"
    },
    {
     "ename": "TypeError",
     "evalue": "int() argument must be a string or a number, not 'tuple'",
     "output_type": "error",
     "traceback": [
      "\u001b[0;31m---------------------------------------------------------------------------\u001b[0m",
      "\u001b[0;31mTypeError\u001b[0m                                 Traceback (most recent call last)",
      "\u001b[0;32m<ipython-input-21-b3e45bb8ad0a>\u001b[0m in \u001b[0;36m<module>\u001b[0;34m()\u001b[0m\n\u001b[0;32m----> 1\u001b[0;31m \u001b[0mlist\u001b[0m\u001b[0;34m=\u001b[0m \u001b[0mint\u001b[0m\u001b[0;34m(\u001b[0m\u001b[0minput\u001b[0m\u001b[0;34m(\u001b[0m\u001b[0;34m\"enter a number\"\u001b[0m\u001b[0;34m)\u001b[0m\u001b[0;34m)\u001b[0m\u001b[0;34m\u001b[0m\u001b[0m\n\u001b[0m\u001b[1;32m      2\u001b[0m \u001b[0;32mfor\u001b[0m \u001b[0mj\u001b[0m \u001b[0;32min\u001b[0m \u001b[0mrange\u001b[0m \u001b[0;34m(\u001b[0m\u001b[0mInteger\u001b[0m\u001b[0;34m(\u001b[0m\u001b[0;36m0\u001b[0m\u001b[0;34m)\u001b[0m\u001b[0;34m,\u001b[0m\u001b[0mlen\u001b[0m\u001b[0;34m(\u001b[0m\u001b[0mlist\u001b[0m\u001b[0;34m)\u001b[0m\u001b[0;34m)\u001b[0m\u001b[0;34m:\u001b[0m\u001b[0;34m\u001b[0m\u001b[0m\n\u001b[1;32m      3\u001b[0m     \u001b[0;32mfor\u001b[0m \u001b[0mi\u001b[0m \u001b[0;32min\u001b[0m \u001b[0mrange\u001b[0m \u001b[0;34m(\u001b[0m\u001b[0mInteger\u001b[0m\u001b[0;34m(\u001b[0m\u001b[0;36m0\u001b[0m\u001b[0;34m)\u001b[0m\u001b[0;34m,\u001b[0m\u001b[0mlen\u001b[0m\u001b[0;34m(\u001b[0m\u001b[0mlist\u001b[0m\u001b[0;34m)\u001b[0m\u001b[0;34m-\u001b[0m\u001b[0mInteger\u001b[0m\u001b[0;34m(\u001b[0m\u001b[0;36m1\u001b[0m\u001b[0;34m)\u001b[0m\u001b[0;34m)\u001b[0m\u001b[0;34m:\u001b[0m\u001b[0;34m\u001b[0m\u001b[0m\n\u001b[1;32m      4\u001b[0m         \u001b[0;32mif\u001b[0m \u001b[0mlist\u001b[0m\u001b[0;34m[\u001b[0m\u001b[0mi\u001b[0m\u001b[0;34m]\u001b[0m\u001b[0;34m>=\u001b[0m\u001b[0mlist\u001b[0m\u001b[0;34m[\u001b[0m\u001b[0mi\u001b[0m\u001b[0;34m+\u001b[0m\u001b[0mInteger\u001b[0m\u001b[0;34m(\u001b[0m\u001b[0;36m1\u001b[0m\u001b[0;34m)\u001b[0m\u001b[0;34m]\u001b[0m\u001b[0;34m:\u001b[0m\u001b[0;34m\u001b[0m\u001b[0m\n\u001b[1;32m      5\u001b[0m             \u001b[0mswap\u001b[0m\u001b[0;34m=\u001b[0m\u001b[0mlist\u001b[0m\u001b[0;34m[\u001b[0m\u001b[0mi\u001b[0m\u001b[0;34m]\u001b[0m\u001b[0;34m\u001b[0m\u001b[0m\n",
      "\u001b[0;31mTypeError\u001b[0m: int() argument must be a string or a number, not 'tuple'"
     ]
    }
   ],
   "source": [
    "list= int(input(\"enter a number\"))\n",
    "for j in range (0,len(list)):\n",
    "    for i in range (0,len(list)-1):\n",
    "        if list[i]>=list[i+1]:\n",
    "            swap=list[i]\n",
    "            list[i]=list[i+1]\n",
    "            list[i+1]=swap\n",
    "print(list)\n",
    "search = int(input(\"enter for u search\"))\n",
    "position=0\n",
    "last=len(list)-1\n",
    "found=0\n",
    "while position<=last and not found:\n",
    "    if list[position]>=search:\n",
    "        found=1\n",
    "    else:\n",
    "        position=position+1\n",
    "    if found:\n",
    "        jumlah_iterasi=position+1\n",
    "        print(\"Jumlah iterasi bilangan tersebut dari depan ada= \", jumlah_iterasi)\n",
    "    else:\n",
    "        print(\"belum ditemukan\")"
   ]
  },
  {
   "cell_type": "code",
   "execution_count": 27,
   "metadata": {
    "cocalc": {
     "outputs": {
      "0": {
       "name": "input",
       "opts": {
        "password": false,
        "prompt": "masukkan angka ="
       },
       "output_type": "stream",
       "value": "6"
      }
     }
    },
    "collapsed": false
   },
   "outputs": [
    {
     "name": "stdout",
     "output_type": "stream",
     "text": "masukkan angka = 6"
    },
    {
     "name": "stdout",
     "output_type": "stream",
     "text": [
      "6\n"
     ]
    }
   ],
   "source": [
    "list=int(input(\"masukkan angka =\"))\n",
    "\n",
    "\n",
    "\n",
    "print list"
   ]
  },
  {
   "cell_type": "code",
   "execution_count": 54,
   "metadata": {
    "cocalc": {
     "outputs": {
      "1": {
       "name": "input",
       "opts": {
        "password": false,
        "prompt": "masukkan angka yang ingin dicari"
       },
       "output_type": "stream"
      }
     }
    },
    "collapsed": false
   },
   "outputs": [
    {
     "name": "stdout",
     "output_type": "stream",
     "text": [
      "[0, 2, 8, 14, 14, 15, 18, 18, 19, 19]\n"
     ]
    },
    {
     "name": "stdout",
     "output_type": "stream",
     "text": "masukkan angka yang ingin dicari "
    },
    {
     "name": "stdout",
     "output_type": "stream",
     "text": [
      "belum ditemukan\n",
      "belum ditemukan\n",
      "('Jumlah iterasi bilangan tersebut dari depan ada= ', 3)\n"
     ]
    }
   ],
   "source": [
    "list= [15,18,2,19,18,0,8,14,19,14]\n",
    "for j in range (0,10):\n",
    "    for i in range (0,9):\n",
    "        if list[i]>=list[i+1]:\n",
    "            swap=list[i]\n",
    "            list[i]=list[i+1]\n",
    "            list[i+1]=swap\n",
    "print(list)\n",
    "search =int(input(\"masukkan angka yang ingin dicari\"))\n",
    "position=0\n",
    "last=len(list)-1\n",
    "found=0\n",
    "while position<=last and not found:\n",
    "    if list[position]>=search:\n",
    "        found=1\n",
    "    else:\n",
    "        position=position+1\n",
    "    if found:\n",
    "        jumlah_iterasi=position+1\n",
    "        print(\"Jumlah iterasi bilangan tersebut dari depan ada= \", jumlah_iterasi)\n",
    "    else:\n",
    "        print(\"belum ditemukan\")"
   ]
  },
  {
   "cell_type": "code",
   "execution_count": 56,
   "metadata": {
    "cocalc": {
     "outputs": {
      "1": {
       "name": "input",
       "opts": {
        "password": false,
        "prompt": "masukkan angka yang ingin dicari"
       },
       "output_type": "stream",
       "value": "6"
      }
     }
    },
    "collapsed": false
   },
   "outputs": [
    {
     "name": "stdout",
     "output_type": "stream",
     "text": [
      "[0, 2, 8, 14, 14, 15, 18, 18, 19, 19]\n"
     ]
    },
    {
     "name": "stdout",
     "output_type": "stream",
     "text": "masukkan angka yang ingin dicari 6"
    },
    {
     "name": "stdout",
     "output_type": "stream",
     "text": [
      "belum ditemukan\n",
      "belum ditemukan\n",
      "('Jumlah iterasi bilangan tersebut dari depan ada= ', 3)\n"
     ]
    }
   ],
   "source": [
    "list= [15,18,2,19,18,0,8,14,19,14]\n",
    "for j in range (0,10):\n",
    "    for i in range (0,9):\n",
    "        if list[i]>=list[i+1]:\n",
    "            swap=list[i]\n",
    "            list[i]=list[i+1]\n",
    "            list[i+1]=swap\n",
    "print(list)\n",
    "search =int(input(\"masukkan angka yang ingin dicari\"))\n",
    "position=0\n",
    "last=len(list)-1\n",
    "found=0\n",
    "while position<=last and not found:\n",
    "    if list[position]>=search:\n",
    "        found=1\n",
    "    else:\n",
    "        position=position+1\n",
    "    if found:\n",
    "        jumlah_iterasi=position+1\n",
    "        print(\"Jumlah iterasi bilangan tersebut dari depan ada= \", jumlah_iterasi)\n",
    "    else:\n",
    "        print(\"belum ditemukan\")"
   ]
  },
  {
   "cell_type": "code",
   "execution_count": 57,
   "metadata": {
    "cocalc": {
     "outputs": {
      "0": {
       "name": "input",
       "opts": {
        "password": false,
        "prompt": "masukkan angka pertama di list"
       },
       "output_type": "stream",
       "value": "6"
      },
      "1": {
       "name": "input",
       "opts": {
        "password": false,
        "prompt": "masukkan angka kedua"
       },
       "output_type": "stream",
       "value": "4"
      },
      "2": {
       "name": "input",
       "opts": {
        "password": false,
        "prompt": "masukkan angka selanjutnya"
       },
       "output_type": "stream",
       "value": "8"
      },
      "3": {
       "name": "input",
       "opts": {
        "password": false,
        "prompt": "masukkan angka selanjutnya"
       },
       "output_type": "stream",
       "value": "3"
      },
      "4": {
       "name": "input",
       "opts": {
        "password": false,
        "prompt": "masukkan angka selanjutnya"
       },
       "output_type": "stream",
       "value": "1"
      },
      "5": {
       "name": "input",
       "opts": {
        "password": false,
        "prompt": "masukkan angka selanjutnya"
       },
       "output_type": "stream",
       "value": "7"
      },
      "6": {
       "name": "input",
       "opts": {
        "password": false,
        "prompt": "masukkan angka selanjutnya"
       },
       "output_type": "stream",
       "value": "9"
      }
     }
    },
    "collapsed": false
   },
   "outputs": [
    {
     "name": "stdout",
     "output_type": "stream",
     "text": "masukkan angka pertama di list 6"
    },
    {
     "name": "stdout",
     "output_type": "stream",
     "text": "masukkan angka kedua 4"
    },
    {
     "name": "stdout",
     "output_type": "stream",
     "text": "masukkan angka selanjutnya 8"
    },
    {
     "name": "stdout",
     "output_type": "stream",
     "text": "masukkan angka selanjutnya 3"
    },
    {
     "name": "stdout",
     "output_type": "stream",
     "text": "masukkan angka selanjutnya 1"
    },
    {
     "name": "stdout",
     "output_type": "stream",
     "text": "masukkan angka selanjutnya 7"
    },
    {
     "name": "stdout",
     "output_type": "stream",
     "text": "masukkan angka selanjutnya 9"
    },
    {
     "name": "stdout",
     "output_type": "stream",
     "text": [
      "[6, 4, 8, 3, 1, 7, 9]\n"
     ]
    }
   ],
   "source": [
    "list= [int(input(\"masukkan angka pertama di list\"))]\n",
    "list.append(int(input(\"masukkan angka kedua\")))\n",
    "\n",
    "while(true):\n",
    "    list.append(int(input(\"masukkan angka selanjutnya\")))\n",
    "    list.append(int(input(\"masukkan angka selanjutnya\")))\n",
    "    list.append(int(input(\"masukkan angka selanjutnya\")))\n",
    "    list.append(int(input(\"masukkan angka selanjutnya\")))\n",
    "    list.append(int(input(\"masukkan angka selanjutnya\")))\n",
    "    print list\n",
    "    break\n"
   ]
  },
  {
   "cell_type": "code",
   "execution_count": 58,
   "metadata": {
    "cocalc": {
     "outputs": {
      "0": {
       "name": "input",
       "opts": {
        "password": false,
        "prompt": "masukkan angka pertama di list"
       },
       "output_type": "stream",
       "value": "6"
      },
      "1": {
       "name": "input",
       "opts": {
        "password": false,
        "prompt": "masukkan angka kedua"
       },
       "output_type": "stream",
       "value": "4"
      },
      "2": {
       "name": "input",
       "opts": {
        "password": false,
        "prompt": "masukkan angka selanjutnya"
       },
       "output_type": "stream",
       "value": "4"
      },
      "3": {
       "name": "input",
       "opts": {
        "password": false,
        "prompt": "masukkan angka selanjutnya"
       },
       "output_type": "stream",
       "value": "3"
      },
      "4": {
       "name": "input",
       "opts": {
        "password": false,
        "prompt": "masukkan angka selanjutnya"
       },
       "output_type": "stream",
       "value": "6"
      },
      "5": {
       "name": "input",
       "opts": {
        "password": false,
        "prompt": "masukkan angka selanjutnya"
       },
       "output_type": "stream",
       "value": "7"
      },
      "6": {
       "name": "input",
       "opts": {
        "password": false,
        "prompt": "masukkan angka selanjutnya"
       },
       "output_type": "stream",
       "value": "8"
      },
      "8": {
       "name": "input",
       "opts": {
        "password": false,
        "prompt": "masukkan angka yang ingin dicari"
       },
       "output_type": "stream",
       "value": "3"
      }
     }
    },
    "collapsed": false
   },
   "outputs": [
    {
     "name": "stdout",
     "output_type": "stream",
     "text": "masukkan angka pertama di list 6"
    },
    {
     "name": "stdout",
     "output_type": "stream",
     "text": "masukkan angka kedua 4"
    },
    {
     "name": "stdout",
     "output_type": "stream",
     "text": "masukkan angka selanjutnya 4"
    },
    {
     "name": "stdout",
     "output_type": "stream",
     "text": "masukkan angka selanjutnya 3"
    },
    {
     "name": "stdout",
     "output_type": "stream",
     "text": "masukkan angka selanjutnya 6"
    },
    {
     "name": "stdout",
     "output_type": "stream",
     "text": "masukkan angka selanjutnya 7"
    },
    {
     "name": "stdout",
     "output_type": "stream",
     "text": "masukkan angka selanjutnya 8"
    },
    {
     "name": "stdout",
     "output_type": "stream",
     "text": [
      "[6, 4, 4, 3, 6, 7, 8]\n",
      "[3, 4, 4, 6, 6, 7, 8]\n"
     ]
    },
    {
     "name": "stdout",
     "output_type": "stream",
     "text": "masukkan angka yang ingin dicari 3"
    },
    {
     "name": "stdout",
     "output_type": "stream",
     "text": [
      "('Jumlah iterasi bilangan tersebut dari depan ada= ', 1)\n"
     ]
    }
   ],
   "source": [
    "list= [int(input(\"masukkan angka pertama di list\"))]\n",
    "list.append(int(input(\"masukkan angka kedua\")))\n",
    "\n",
    "while(true):\n",
    "    list.append(int(input(\"masukkan angka selanjutnya\")))\n",
    "    list.append(int(input(\"masukkan angka selanjutnya\")))\n",
    "    list.append(int(input(\"masukkan angka selanjutnya\")))\n",
    "    list.append(int(input(\"masukkan angka selanjutnya\")))\n",
    "    list.append(int(input(\"masukkan angka selanjutnya\")))\n",
    "    print list\n",
    "    break\n",
    "for j in range (0,7):\n",
    "    for i in range (0,6):\n",
    "        if list[i]>=list[i+1]:\n",
    "            swap=list[i]\n",
    "            list[i]=list[i+1]\n",
    "            list[i+1]=swap\n",
    "print(list)\n",
    "search =int(input(\"masukkan angka yang ingin dicari\"))\n",
    "position=0\n",
    "last=len(list)-1\n",
    "found=0\n",
    "while position<=last and not found:\n",
    "    if list[position]>=search:\n",
    "        found=1\n",
    "    else:\n",
    "        position=position+1\n",
    "    if found:\n",
    "        jumlah_iterasi=position+1\n",
    "        print(\"Jumlah iterasi bilangan tersebut dari depan ada= \", jumlah_iterasi)\n",
    "    else:\n",
    "        print(\"belum ditemukan\")"
   ]
  }
 ],
 "metadata": {
  "kernelspec": {
   "display_name": "SageMath (stable)",
   "language": "sagemath",
   "metadata": {
    "cocalc": {
     "description": "Open-source mathematical software system",
     "priority": 10,
     "url": "https://www.sagemath.org/"
    }
   },
   "name": "sagemath"
  },
  "language_info": {
   "codemirror_mode": {
    "name": "ipython",
    "version": 2
   },
   "file_extension": ".py",
   "mimetype": "text/x-python",
   "name": "python",
   "nbconvert_exporter": "python",
   "pygments_lexer": "ipython2",
   "version": "2.7.15"
  }
 },
 "nbformat": 4,
 "nbformat_minor": 0
}