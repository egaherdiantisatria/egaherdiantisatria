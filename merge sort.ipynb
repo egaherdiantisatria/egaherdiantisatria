{
 "cells": [
  {
   "cell_type": "code",
   "execution_count": 11,
   "metadata": {
    "collapsed": false
   },
   "outputs": [
    {
     "name": "stdout",
     "output_type": "stream",
     "text": [
      "[54, 26]\n",
      "[93, 17]\n",
      "[54, 26, 93, 17]\n",
      "[17, 26, 93, 17]\n",
      "[17, 26, 93, 17]\n",
      "[77, 31]\n",
      "[55, 20]\n",
      "[44, 55, 20]\n",
      "[20, 55, 20]\n",
      "[77, 31, 44, 55, 20]\n",
      "[20, 31, 44, 55, 20]\n",
      "[20, 31, 44, 55, 20]\n",
      "[20, 31, 44, 55, 20]\n",
      "[54, 26, 93, 17, 77, 31, 44, 55, 20]\n",
      "[17, 26, 93, 17, 77, 31, 44, 55, 20]\n",
      "[17, 20, 93, 17, 77, 31, 44, 55, 20]\n",
      "[17, 20, 26, 17, 77, 31, 44, 55, 20]\n",
      "[17, 20, 26, 31, 77, 31, 44, 55, 20]\n",
      "[17, 20, 26, 31, 44, 31, 44, 55, 20]\n",
      "[17, 20, 26, 31, 44, 54, 44, 55, 20]\n",
      "[17, 20, 26, 31, 44, 54, 55, 55, 20]\n",
      "[17, 20, 26, 31, 44, 54, 55, 77, 93]\n"
     ]
    }
   ],
   "source": [
    "def mergeSort(alist):\n",
    "    if len(alist)>1:\n",
    "        mid = len(alist)//2\n",
    "        left = alist[:mid]\n",
    "        right = alist[mid:]\n",
    "\n",
    "        mergeSort(left)\n",
    "        mergeSort(right)\n",
    "\n",
    "        i=0\n",
    "        j=0\n",
    "        k=0\n",
    "        while (i < len(left) and j < len(right)):\n",
    "            print (alist)\n",
    "            if left[i] < right[j]:\n",
    "                alist[k]=left[i]\n",
    "                i=i+1\n",
    "            else:\n",
    "                alist[k]=right[j]\n",
    "                j=j+1\n",
    "            k=k+1\n",
    "\n",
    "        while i < len(left):\n",
    "            alist[k]=left[i]\n",
    "            i=i+1\n",
    "            k=k+1\n",
    "\n",
    "        while j < len(right):\n",
    "            alist[k]=right[j]\n",
    "            j=j+1\n",
    "            k=k+1\n",
    "\n",
    "\n",
    "alist = [54,26,93,17,77,31,44,55,20]\n",
    "mergeSort(alist)\n",
    "print(alist)\n"
   ]
  },
  {
   "cell_type": "code",
   "execution_count": 0,
   "metadata": {
    "collapsed": false
   },
   "outputs": [
   ],
   "source": [
   ]
  }
 ],
 "metadata": {
  "kernelspec": {
   "display_name": "SageMath (stable)",
   "language": "sagemath",
   "metadata": {
    "cocalc": {
     "description": "Open-source mathematical software system",
     "priority": 10,
     "url": "https://www.sagemath.org/"
    }
   },
   "name": "sagemath"
  }
 },
 "nbformat": 4,
 "nbformat_minor": 0
}