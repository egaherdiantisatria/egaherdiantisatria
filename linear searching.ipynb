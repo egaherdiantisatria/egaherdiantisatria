{
 "cells": [
  {
   "cell_type": "markdown",
   "metadata": {
    "collapsed": false
   },
   "source": [
    "Linear search"
   ]
  },
  {
   "cell_type": "code",
   "execution_count": 1,
   "metadata": {
    "collapsed": false
   },
   "outputs": [
    {
     "name": "stdout",
     "output_type": "stream",
     "text": [
      "didnt find the search number\n",
      "didnt find the search number\n",
      "didnt find the search number\n",
      "didnt find the search number\n",
      "found the search number\n",
      "1\n"
     ]
    }
   ],
   "source": [
    "search = 2\n",
    "list =[1,2,3,4,5,6]\n",
    "position =len(list)-1\n",
    "last=0\n",
    "found=false\n",
    "while position >= last and not found:\n",
    "     if list[position]==search:\n",
    "         found=true\n",
    "     else:\n",
    "         position=position-1\n",
    "     if found:\n",
    "         print(\"found the search number\")\n",
    "         print(position)\n",
    "     else:\n",
    "         print(\"didnt find the search number\")"
   ]
  },
  {
   "cell_type": "code",
   "execution_count": 1,
   "metadata": {
    "collapsed": false
   },
   "outputs": [
    {
     "name": "stdout",
     "output_type": "stream",
     "text": [
      "didnt find the search number\n",
      "found the search number\n",
      "1\n"
     ]
    }
   ],
   "source": [
    "search=2\n",
    "list=[1,2,3,4,5,6]\n",
    "position=0\n",
    "last=len(list)-1\n",
    "found=false\n",
    "while position<=last and not found:\n",
    "    if list[position]==search:\n",
    "        found=true\n",
    "    else:\n",
    "        position=position+1\n",
    "    if found:\n",
    "        print(\"found the search number\")\n",
    "        print(position)\n",
    "    else:\n",
    "        print(\"didnt find the search number\")"
   ]
  },
  {
   "cell_type": "code",
   "execution_count": 16,
   "metadata": {
    "collapsed": false
   },
   "outputs": [
    {
     "name": "stdout",
     "output_type": "stream",
     "text": [
      "didnt find the search number\n",
      "didnt find the search number\n",
      "didnt find the search number\n",
      "found the search number\n",
      "3\n",
      "found the search number\n",
      "4\n"
     ]
    }
   ],
   "source": [
    "search =4\n",
    "list=[1,2,3,4,5,6]\n",
    "position=0\n",
    "last=len(list)-1\n",
    "found=false\n",
    "for position in range(len(list)-1):\n",
    "    if list[position]==search:\n",
    "        found=true\n",
    "    if found:\n",
    "        print(\"found the search number\")\n",
    "        print(position)\n",
    "    else:\n",
    "         print(\"didnt find the search number\")"
   ]
  },
  {
   "cell_type": "code",
   "execution_count": 5,
   "metadata": {
    "collapsed": false
   },
   "outputs": [
    {
     "name": "stdout",
     "output_type": "stream",
     "text": [
      "didnt find the search number\n",
      "found the search number\n",
      "1\n"
     ]
    }
   ],
   "source": [
    "def deret(search,mylist):\n",
    "    position=0\n",
    "    last=len(mylist)-1\n",
    "    found=false\n",
    "    while position<=last and not found:\n",
    "        if mylist[position]==search:\n",
    "            found=true\n",
    "        else:\n",
    "            position=position+1\n",
    "        if found:\n",
    "            print(\"found the search number\")\n",
    "            print(position)\n",
    "        else:\n",
    "            print(\"didnt find the search number\")\n",
    "deret(2,[1,2,3,4,5,6])"
   ]
  },
  {
   "cell_type": "markdown",
   "metadata": {
    "collapsed": false
   },
   "source": [
    "*Binary search also known as a half interval search*"
   ]
  }
 ],
 "metadata": {
  "kernelspec": {
   "display_name": "SageMath (stable)",
   "language": "sagemath",
   "metadata": {
    "cocalc": {
     "description": "Open-source mathematical software system",
     "priority": 10,
     "url": "https://www.sagemath.org/"
    }
   },
   "name": "sagemath"
  },
  "language_info": {
   "codemirror_mode": {
    "name": "ipython",
    "version": 2
   },
   "file_extension": ".py",
   "mimetype": "text/x-python",
   "name": "python",
   "nbconvert_exporter": "python",
   "pygments_lexer": "ipython2",
   "version": "2.7.15"
  }
 },
 "nbformat": 4,
 "nbformat_minor": 0
}