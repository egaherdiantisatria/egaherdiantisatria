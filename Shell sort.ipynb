{
 "cells": [
  {
   "cell_type": "raw",
   "metadata": {
    "collapsed": false
   },
   "source": [
    "Shell short= penggabungan dari insert short dengan bubble short"
   ]
  },
  {
   "cell_type": "code",
   "execution_count": 2,
   "metadata": {
    "collapsed": false
   },
   "outputs": [
    {
     "name": "stdout",
     "output_type": "stream",
     "text": [
      "4\n",
      "[54, 26, 93, 17, 77, 31, 44, 55, 20]\n",
      "[20, 26, 93, 17, 54, 31, 44, 55, 77]\n",
      "4\n",
      "[20, 26, 93, 17, 54, 31, 44, 55, 77]\n",
      "4\n",
      "[20, 26, 44, 17, 54, 31, 93, 55, 77]\n",
      "4\n",
      "[20, 26, 44, 17, 54, 31, 93, 55, 77]\n",
      "2\n",
      "[20, 26, 44, 17, 54, 31, 93, 55, 77]\n",
      "[20, 26, 44, 17, 54, 31, 93, 55, 77]\n",
      "[20, 26, 44, 17, 54, 31, 93, 55, 77]\n",
      "[20, 26, 44, 17, 54, 31, 77, 55, 93]\n",
      "2\n",
      "[20, 17, 44, 26, 54, 31, 77, 55, 93]\n",
      "[20, 17, 44, 26, 54, 31, 77, 55, 93]\n",
      "[20, 17, 44, 26, 54, 31, 77, 55, 93]\n",
      "1\n",
      "[17, 20, 44, 26, 54, 31, 77, 55, 93]\n",
      "[17, 20, 44, 26, 54, 31, 77, 55, 93]\n",
      "[17, 20, 26, 44, 54, 31, 77, 55, 93]\n",
      "[17, 20, 26, 44, 54, 31, 77, 55, 93]\n",
      "[17, 20, 26, 31, 44, 54, 77, 55, 93]\n",
      "[17, 20, 26, 31, 44, 54, 77, 55, 93]\n",
      "[17, 20, 26, 31, 44, 54, 55, 77, 93]\n",
      "[17, 20, 26, 31, 44, 54, 55, 77, 93]\n",
      "[17, 20, 26, 31, 44, 54, 55, 77, 93]\n"
     ]
    }
   ],
   "source": [
    "def shellSort(alist):\n",
    "    sublistcount = len(alist)//2\n",
    "    while sublistcount > 0:\n",
    "      for startposition in range(sublistcount):\n",
    "        print(sublistcount)\n",
    "        gapInsertionSort(alist,startposition,sublistcount)\n",
    "      sublistcount = sublistcount // 2\n",
    "\n",
    "def gapInsertionSort(alist,start,gap):\n",
    "    for i in range(start+gap,len(alist),gap):\n",
    "\n",
    "        currentvalue = alist[i]\n",
    "        position = i\n",
    "\n",
    "        while position>=gap and alist[position-gap]>currentvalue:\n",
    "            alist[position]=alist[position-gap]\n",
    "            position = position-gap\n",
    "\n",
    "        alist[position]=currentvalue\n",
    "        print(alist)\n",
    "\n",
    "alist = [54,26,93,17,77,31,44,55,20]\n",
    "shellSort(alist)\n",
    "print(alist)\n"
   ]
  },
  {
   "cell_type": "code",
   "execution_count": 0,
   "metadata": {
    "collapsed": false
   },
   "outputs": [
   ],
   "source": [
   ]
  }
 ],
 "metadata": {
  "kernelspec": {
   "display_name": "SageMath (stable)",
   "language": "sagemath",
   "metadata": {
    "cocalc": {
     "description": "Open-source mathematical software system",
     "priority": 10,
     "url": "https://www.sagemath.org/"
    }
   },
   "name": "sagemath"
  }
 },
 "nbformat": 4,
 "nbformat_minor": 0
}