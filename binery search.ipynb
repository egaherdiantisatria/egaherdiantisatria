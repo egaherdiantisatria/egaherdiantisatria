{
 "cells": [
  {
   "cell_type": "code",
   "execution_count": 2,
   "metadata": {
    "collapsed": false
   },
   "outputs": [
    {
     "name": "stdout",
     "output_type": "stream",
     "text": [
      " didnt find the search number\n",
      "didnt find the search number\n",
      "found the search number\n",
      "3\n"
     ]
    }
   ],
   "source": [
    "def deret(search,list):\n",
    "    first =0\n",
    "    last= len(list)-1\n",
    "    found=0\n",
    "    \n",
    "    while first<=last and not found:\n",
    "        middle= (first+last)//2\n",
    "        if list[middle]==search:\n",
    "            found=1\n",
    "        else:\n",
    "            if search<list[middle]:\n",
    "                last=middle-1\n",
    "            else:\n",
    "                first=middle+1\n",
    "        if found:\n",
    "            print(\"found the search number\")\n",
    "            print(middle)\n",
    "        else:\n",
    "            print(\"didnt find the search number\")\n",
    "deret(4,[1,2,3,4,5,6])"
   ]
  }
 ],
 "metadata": {
  "kernelspec": {
   "display_name": "SageMath (stable)",
   "language": "sagemath",
   "metadata": {
    "cocalc": {
     "description": "Open-source mathematical software system",
     "priority": 10,
     "url": "https://www.sagemath.org/"
    }
   },
   "name": "sagemath"
  },
  "language_info": {
   "codemirror_mode": {
    "name": "ipython",
    "version": 2
   },
   "file_extension": ".py",
   "mimetype": "text/x-python",
   "name": "python",
   "nbconvert_exporter": "python",
   "pygments_lexer": "ipython2",
   "version": "2.7.15"
  }
 },
 "nbformat": 4,
 "nbformat_minor": 0
}