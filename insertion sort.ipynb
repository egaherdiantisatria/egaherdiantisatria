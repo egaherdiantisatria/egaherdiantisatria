{
 "cells": [
  {
   "cell_type": "code",
   "execution_count": 8,
   "metadata": {
    "collapsed": false
   },
   "outputs": [
    {
     "name": "stdout",
     "output_type": "stream",
     "text": [
      "[54, 19, 26, 93, 17, 77, 31, 44, 55, 20]\n",
      "[54, 19, 19, 93, 17, 77, 31, 44, 55, 20]\n",
      "[54, 54, 26, 19, 17, 77, 31, 44, 55, 20]\n",
      "[93, 54, 26, 19, 17, 77, 31, 44, 55, 20]\n",
      "[93, 54, 54, 26, 19, 17, 31, 44, 55, 20]\n",
      "[93, 77, 54, 26, 26, 19, 17, 44, 55, 20]\n",
      "[93, 77, 54, 31, 31, 26, 19, 17, 55, 20]\n",
      "[93, 77, 54, 54, 44, 31, 26, 19, 17, 20]\n",
      "[93, 77, 55, 54, 44, 31, 26, 19, 19, 17]\n",
      "[93, 77, 55, 54, 44, 31, 26, 20, 19, 17]\n"
     ]
    }
   ],
   "source": [
    "def insertionSort(alist):\n",
    "   for i in range(1,len(alist)):\n",
    "\n",
    "     currentvalue = alist[i]\n",
    "     position = i\n",
    "\n",
    "     while position>0 and alist[position-1]<currentvalue:\n",
    "         alist[position]=alist[position-1]\n",
    "         position = position-1\n",
    "     print(alist)\n",
    "\n",
    "     alist[position]=currentvalue\n",
    "\n",
    "alist = [54,19,26,93,17,77,31,44,55,20]\n",
    "insertionSort(alist)\n",
    "print(alist)\n"
   ]
  },
  {
   "cell_type": "code",
   "execution_count": 0,
   "metadata": {
    "collapsed": false
   },
   "outputs": [
   ],
   "source": [
   ]
  },
  {
   "cell_type": "code",
   "execution_count": 0,
   "metadata": {
    "collapsed": false
   },
   "outputs": [
   ],
   "source": [
   ]
  }
 ],
 "metadata": {
  "kernelspec": {
   "display_name": "SageMath (stable)",
   "language": "sagemath",
   "metadata": {
    "cocalc": {
     "description": "Open-source mathematical software system",
     "priority": 10,
     "url": "https://www.sagemath.org/"
    }
   },
   "name": "sagemath"
  }
 },
 "nbformat": 4,
 "nbformat_minor": 0
}