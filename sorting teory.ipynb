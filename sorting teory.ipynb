{
 "cells": [
  {
   "cell_type": "raw",
   "metadata": {
    "collapsed": false
   },
   "source": [
    "SORTING\n",
    "\n",
    "1. Selection Sort (Ascending):\n",
    "Pengurutan dilakukan dengan memilih elemen terbesar dan menempatkan pada posisinya,\n",
    "kemudian mencari element terbesar berikutnya dan menempatkan pada tempatnya, dan\n",
    "seterusnya.\n",
    "\n",
    "Proses pengurutan dengan menggunakan metode selection sort secara terurut naik adalah\n",
    "1. Mencari data terkecil dari data pertama sampai data terakhir, kemunian di tukar   posisinya dengan data pertama.\n",
    "2. mencari data terkecil dari data kedua sampai data terakhir, kemudian di tukar dengan posisinya dengan data kedua.\n",
    "3. mencari data terkecil dari data ketiga sampai data terakhir, kemudian di tukar posisinya dengan data ketiga\n",
    "4. dan seterusnya sampai semua data turut naik. apabila terdapat n buah data yang akan di urutkan, maka membutukan (n – 1) langkah pengurutan, dimana data terakhir yaitu data ke-n tidak perlu di urutkan karena hanya tinggal satu satunya.\n",
    "\n",
    "2. Bubble Sort\n",
    "\n",
    "Konsep Buble Sort\n",
    "Metode pengurutan gelembung (Bubble Sort) diinspirasikan oleh gelembung sabun yang berada dipermukaan air. Karena berat jenis gelembung sabun lebih ringan daripada berat jenis air, maka gelembung sabun selalu terapung ke atas permukaan. Prinsip di atas dipakai pada pengurutan gelembung.\n",
    "Bubble sort (metode gelembung) adalah metode/algoritma pengurutan dengan dengan cara melakukan penukaran data dengan tepat disebelahnya secara terus menerus sampai bisa dipastikan dalam satu iterasi tertentu tidak ada lagi perubahan. Jika tidak ada perubahan berarti data sudah terurut. Disebut pengurutan gelembung karena masing-masing kunci akan dengan lambat menggelembung ke posisinya yang tepat.\n",
    "\n",
    "3. Metode Penyisipan Langsung (Insertion sort)\n",
    "\n",
    "Data dicek satu per satu mulai dari yang kedua sampai dengan yang terakhir. Apabila\n",
    "ditemukan data yang lebih kecil daripada data sebelumnya, maka data tersebut disisipkan\n",
    "pada posisi yang sesuai. Akan lebih mudah apabila membayangkan pengurutan kartu.\n",
    "Pertama-tama anda meletakkan kartu-kartu tersebut di atas meja, kemudian melihatnya\n",
    "dari kiri ke kanan. Apabila kartu di sebelah kanan lebih kecil daripada kartu di sebelahkiri, maka ambil kartu tersebut dan sisipkan di tempat yang sesuai.\n",
    "\n",
    "4.Metode Penggabungan (Merge Sort) \n",
    "\n",
    "Metode penggabungan biasanya digunakan pada pengurutan berkas. Prinsip dari\n",
    "metode penggabungan sebagai berikut : mula-mula diberikan dua kumpulan data yang\n",
    "sudah dalam keadaan urut. Kedua kumpulan data tersebut harus dijadikan satu table\n",
    "sehingga dalam keadaan urut.\n",
    "\n",
    "5.Quick Sort\n",
    "Algoritma ini berdasar pada pola divide-and-conquer. Berbeda dengan merge sort, algoritma ini hanya mengikuti langkah – langkah sebagai berikut :\n",
    "1. Divide\n",
    "\n",
    "Memilah rangkaian data menjadi dua sub-rangkaian A[p…q-1] dan A[q+1…r] dimana setiap elemen A[p…q-1] adalah kurang dari atau sama dengan A[q] dan setiap elemen pada A[q+1…r] adalah lebih besar atau sama dengan elemen pada A[q]. A[q] disebut sebagai elemen pivot. Perhitungan pada elemen q merupakan salah satu bagian dari prosedur pemisahan.\n",
    "\n",
    "2. Conquer\n",
    "\n",
    "Mengurutkan elemen pada sub-rangkaian secara rekursif. Pada algoritma quicksort, langkah ”kombinasi” tidak di lakukan karena telah terjadi pengurutan elemen – elemen pada sub-array\n",
    "\n",
    "6. Shell Sort\n",
    "\n",
    "Merupakan algoritma yang stau jenis dengan insertion sort, dimana pada setiap nilai i dalam n/i item diurutkan. Pada setiap pergantian nilai, i dikurangi sampai 1 sebagai nilai terakhir\n"
   ]
  }
 ],
 "metadata": {
  "kernelspec": {
   "display_name": "Python 3 (Ubuntu Linux)",
   "language": "python",
   "metadata": {
    "cocalc": {
     "description": "Python 3 programming language",
     "priority": 100,
     "url": "https://www.python.org/"
    }
   },
   "name": "python3"
  },
  "language_info": {
   "codemirror_mode": {
    "name": "ipython",
    "version": 3
   },
   "file_extension": ".py",
   "mimetype": "text/x-python",
   "name": "python",
   "nbconvert_exporter": "python",
   "pygments_lexer": "ipython3",
   "version": "3.6.7"
  }
 },
 "nbformat": 4,
 "nbformat_minor": 0
}