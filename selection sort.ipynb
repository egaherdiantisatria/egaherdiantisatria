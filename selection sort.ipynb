{
 "cells": [
  {
   "cell_type": "code",
   "execution_count": 2,
   "metadata": {
    "collapsed": false
   },
   "outputs": [
    {
     "name": "stdout",
     "output_type": "stream",
     "text": [
      "sorted array\n",
      "6\n",
      "3\n",
      "2\n",
      "4\n",
      "5\n"
     ]
    }
   ],
   "source": [
    "A = [6,3,2,4,5]\n",
    "for i in range(len(A)):\n",
    "    min_idx= i\n",
    "    for j in range(i,1,len(A)):\n",
    "        if A[min_idx]>A[j]:\n",
    "            min_idx=j\n",
    "    A[i],A[min_idx]=A[min_idx],A[i]\n",
    "print(\"sorted array\")\n",
    "for i in range(len(A)):\n",
    "    print(\"%d\"%A[i])"
   ]
  },
  {
   "cell_type": "code",
   "execution_count": 11,
   "metadata": {
    "collapsed": false
   },
   "outputs": [
    {
     "name": "stdout",
     "output_type": "stream",
     "text": [
      "[2, 3, 4, 5, 6]\n"
     ]
    }
   ],
   "source": [
    "def selectionSort(list):\n",
    "    for i in range(len(list)-1,0,-1):\n",
    "        last=0\n",
    "        for location in range(1,i+1):\n",
    "            if list[location]>list[last]:\n",
    "                last = location\n",
    "        temp=list[i]\n",
    "        list[i]=list[last]\n",
    "        list[last]= temp\n",
    "list =[6,3,2,4,5]\n",
    "selectionSort(list)\n",
    "print(list)"
   ]
  },
  {
   "cell_type": "code",
   "execution_count": 8,
   "metadata": {
    "collapsed": false
   },
   "outputs": [
    {
     "name": "stdout",
     "output_type": "stream",
     "text": [
      "[4, 7, 11, 15, 20, 23, 32, 99]\n"
     ]
    }
   ],
   "source": [
    "def SelectionSort(val):\n",
    "   for isi in range(len(val)-1,0,-1):\n",
    "       Max=0\n",
    "       for lokasi in range(1,isi+1):\n",
    "           if val[lokasi]>val[Max]:\n",
    "               Max = lokasi\n",
    "       temp = val[isi]\n",
    "       val[isi] = val[Max]\n",
    "       val[Max] = temp\n",
    "\n",
    "DaftarAngka = [23,7,32,99,4,15,11,20]\n",
    "SelectionSort(DaftarAngka)\n",
    "print(DaftarAngka)"
   ]
  },
  {
   "cell_type": "code",
   "execution_count": 22,
   "metadata": {
    "collapsed": false
   },
   "outputs": [
    {
     "name": "stdout",
     "output_type": "stream",
     "text": [
      "[6, 3, 2, 4, 5]\n",
      "[5, 3, 2, 4, 6]\n",
      "[4, 3, 2, 5, 6]\n",
      "[2, 3, 4, 5, 6]\n",
      "[2, 3, 4, 5, 6]\n"
     ]
    }
   ],
   "source": [
    "list = [6,3,2,4,5]\n",
    "for i in range(len(list)-1,0,-1):\n",
    "        last=0\n",
    "        print(list)\n",
    "        for location in range(1,i+1):\n",
    "            if list[location]>list[last]:\n",
    "                last = location\n",
    "        temp=list[i]\n",
    "        list[i]=list[last]\n",
    "        list[last]= temp\n",
    "\n",
    "print(list)"
   ]
  },
  {
   "cell_type": "code",
   "execution_count": 4,
   "metadata": {
    "collapsed": false
   },
   "outputs": [
    {
     "name": "stdout",
     "output_type": "stream",
     "text": [
      "[6, 3, 2, 4, 5]\n",
      "[5, 3, 2, 4, 6]\n"
     ]
    }
   ],
   "source": [
    "list = [6,3,2,4,5]\n",
    "last= len(list)-1\n",
    "for i in range(last,len(list),1):\n",
    "        last=0\n",
    "        print(list)\n",
    "        for j in range((i<1),len(list)):\n",
    "            if list[j]>list[last]:\n",
    "                last = j\n",
    "        temp=list[i]\n",
    "        list[i]=list[last]\n",
    "        list[last]= temp\n",
    "\n",
    "print(list)"
   ]
  },
  {
   "cell_type": "code",
   "execution_count": 11,
   "metadata": {
    "collapsed": false
   },
   "outputs": [
    {
     "name": "stdout",
     "output_type": "stream",
     "text": [
      "[17, 20, 26, 31, 44, 54, 55, 77, 93]\n"
     ]
    }
   ],
   "source": [
    "def selectionSort(list):\n",
    "   for fillslot in range(len(list)-1,0,-1):\n",
    "       positionOfMax=0\n",
    "       for location in range(1,fillslot+1):\n",
    "           if list[location]>list[positionOfMax]:\n",
    "               positionOfMax = location\n",
    "\n",
    "       temp = list[fillslot]\n",
    "       list[fillslot] = list[positionOfMax]\n",
    "       list[positionOfMax] = temp\n",
    "\n",
    "selectionSort(list=[54,26,93,17,77,31,44,55,20])\n",
    "print(list)\n"
   ]
  },
  {
   "cell_type": "code",
   "execution_count": 0,
   "metadata": {
    "collapsed": false
   },
   "outputs": [
   ],
   "source": [
   ]
  }
 ],
 "metadata": {
  "kernelspec": {
   "display_name": "SageMath (stable)",
   "language": "sagemath",
   "metadata": {
    "cocalc": {
     "description": "Open-source mathematical software system",
     "priority": 10,
     "url": "https://www.sagemath.org/"
    }
   },
   "name": "sagemath"
  }
 },
 "nbformat": 4,
 "nbformat_minor": 0
}