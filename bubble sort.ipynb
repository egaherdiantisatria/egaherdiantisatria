{
 "cells": [
  {
   "cell_type": "code",
   "execution_count": 10,
   "metadata": {
    "collapsed": false
   },
   "outputs": [
    {
     "name": "stdout",
     "output_type": "stream",
     "text": [
      "[15, 18, 2, 14]\n",
      "[15, 2, 14, 18]\n",
      "[2, 14, 15, 18]\n",
      "[2, 14, 15, 18]\n",
      "[2, 14, 15, 18]\n",
      "('Jumlah iterasi bilangan tersebut dari depan ada= ', 1)\n"
     ]
    }
   ],
   "source": [
    "list= [15,18,2,14]\n",
    "p = len(list)\n",
    "q= len(list)-1\n",
    "for j in range (p):\n",
    "    print(list)\n",
    "    for i in range (q):\n",
    "        #membandingkan\n",
    "        if list[i]>=list[i+1]:\n",
    "            swap=list[i]\n",
    "            list[i]=list[i+1]\n",
    "            list[i+1]=swap\n",
    "print(list)\n",
    "search = 2\n",
    "position=0\n",
    "last=len(list)-1\n",
    "found=0\n",
    "while position<=last and not found:\n",
    "    if list[position]==search:\n",
    "        found=1\n",
    "    else:\n",
    "        position=position+1\n",
    "    if found:\n",
    "        jumlah_iterasi=position+1\n",
    "        print(\"Jumlah iterasi bilangan tersebut dari depan ada= \", jumlah_iterasi)\n",
    "    else:\n",
    "        print(\"belum ditemukan\")\n",
    "if not found: \n",
    "   print(\"jumlah iterasi= \",len(list))"
   ]
  },
  {
   "cell_type": "raw",
   "metadata": {
    "collapsed": false
   },
   "source": [
    "Bubble short adalah perbandingan dengan pertukaran langsung."
   ]
  },
  {
   "cell_type": "code",
   "execution_count": 11,
   "metadata": {
    "collapsed": false
   },
   "outputs": [
    {
     "name": "stdout",
     "output_type": "stream",
     "text": [
      "[15, 18, 2, 14]\n",
      "[15, 2, 14, 18]\n",
      "[2, 14, 15, 18]\n",
      "[2, 14, 15, 18]\n",
      "[2, 14, 15, 18]\n"
     ]
    }
   ],
   "source": [
    "list= [15,18,2,14]\n",
    "p = len(list)\n",
    "q= len(list)-1\n",
    "for j in range (p):\n",
    "    print(list)\n",
    "    for i in range (q):\n",
    "        #membandingkan\n",
    "        if list[i]>=list[i+1]:\n",
    "            swap=list[i]\n",
    "            list[i]=list[i+1]\n",
    "            list[i+1]=swap\n",
    "print(list)"
   ]
  }
 ],
 "metadata": {
  "kernelspec": {
   "display_name": "SageMath (stable)",
   "language": "sagemath",
   "metadata": {
    "cocalc": {
     "description": "Open-source mathematical software system",
     "priority": 10,
     "url": "https://www.sagemath.org/"
    }
   },
   "name": "sagemath"
  },
  "language_info": {
   "codemirror_mode": {
    "name": "ipython",
    "version": 2
   },
   "file_extension": ".py",
   "mimetype": "text/x-python",
   "name": "python",
   "nbconvert_exporter": "python",
   "pygments_lexer": "ipython2",
   "version": "2.7.15"
  }
 },
 "nbformat": 4,
 "nbformat_minor": 0
}