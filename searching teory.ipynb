{
 "cells": [
  {
   "cell_type": "raw",
   "metadata": {
    "collapsed": false
   },
   "source": [
    "Pengertian Searching \n",
    "Pencarian (Searching) merupakan proses yang fundamental dalam pemrograman, guna menemukan data (nilai) tertentu di dalam sekumpulan data yang bertipe sama. Fungsi pencarian itu sendiri adalah untuk memvalidasi (mencocokkan) data.atau Searching adalah metode pencarian informasi dalam suatu aplikasi, dengan suatu kunci( key ). Pencarian diperlukan untuk mencari informasi khusus dari table pada saat lokasi yang pasti dari informasi tersebut sebelumnya tidak diketahui. Pencarian selalu dinyatakan dengan referensi pada adanya sekelompok data yang tersimpan secara terorganisasi, kelompok data tersebut kita sebut table.\n"
   ]
  },
  {
   "cell_type": "raw",
   "metadata": {
    "collapsed": false
   },
   "source": [
    "1. Metode Pencarian Beruntun (Linear searching / sequential searching)\n",
    "\n",
    "Konsep yang digunakan dalam metode ini adalah membandingkan data-data yang ada dalam kumpulan tersebut, mulai dari elemen pertama sampai elemen ditemukan, atau sampai elemen terakhir. Apabila sama , berarti data telah ditemukan . Sebaliknya apabila sampai akhir pengulangan , tidak ada yang sama berarti data tidak ada.\n",
    "\n",
    "\n",
    "Pencarian Sekuensial memiliki beberapa kelebihan dan kekurangan yaitu :\n",
    "\n",
    "1.       Kelebihannya :\n",
    " Relatif lebih cepat dan efisien untuk data yang terbatas\n",
    "Algoritma sederhana\n",
    "\n",
    "2.       Kekuranganya :\n",
    "\n",
    "Kurang cepat untuk data dalam jumlah besar\n",
    "Beban komputasi cenderung lebih besar"
   ]
  },
  {
   "cell_type": "raw",
   "metadata": {
    "collapsed": false
   },
   "source": [
    "2. Metode Pencarian Bagi Dua (Binary Search)\n",
    "\n",
    "Metode ini diterapkan pada sekumpulan data yang sudah terurut (menaik atau menurun). Konsep dasar metode ini adalah membagi 2 jumlah elemennya, dan menentukan apakah data yang berada pada elemen paling tengah bernilai sama, lebih dari atau kurang dari nilai data yang akan dicari. Jika bernilai sama, maka langsung data yang dicari ditemukan. Jika data di elemen terurut naik, maka jika data yang berada di tengah kurang dari data yang dicari, maka pencarian selanjutnya berkisar di elemen tengah ke kanan, dan begitu seterusnya sampai ketemu atau tidak sama sekali. Dan sebaliknya untuk nilai data yang berada di tengah lebih dari data yang dicari, maka pencarian selanjutnya berkisar di elemen tengah ke kiri, dan begitu seterusnya sampai ketemu atau tidak sama sekali. Dan demikian sebaliknya untuk data yang terurut menurun. Dalam hal ini tentukan indeks paling awal dan indeks paling akhir, untuk membagi 2 elemen tersebut. \n",
    "\n",
    "Binary search adalah sebuah algoritma pencarian dengan cara membagi data menjadi dua bagian setiap kali terjadi proses pencarian untuk menemukan nilai tertentu dalam sebuah larik (array) linear. Sebuah pencarian biner mencari nilai tengah (median), melakukan sebuah pembandingan untuk menentukan apakah nilai yang dicari ada sebelum atau sesudahnya, kemudian mencari setengah sisanya dengan cara yang sama. Pencarian Biner (Binary Search) dilakukan untuk :\n",
    "\n",
    "a)      Memperkecil jumlah operasi pembandingan yang harus dilakukan antara data yang dicari dengan data yang ada di dalam tabel, khususnya untuk jumlah data yang sangat besar ukurannya.\n",
    "b)      Beban komputasi juga lebih kecil karena pencarian dilakukan dari depan, belakang, dan tengah.\n",
    "c)      Prinsip dasarnya adalah melakukan proses pembagian ruang pencarian secara berulang-ulang sampai data ditemukan atau sampai ruang pencarian tidak dapat dibagi lagi (berarti ada kemungkinan data tidak ditemukan).\n",
    "d)     Syarat utama untuk pencarian biner adalah data di dalam tabel harus sudah terurut.\n",
    "\n",
    "Langkah dalam pencarian biner adalah :\n",
    "\n",
    "1.      Mula-mula diambil dari posisi awal=1 dan posisi akhir = n\n",
    "2.      Kemudian kita cari posisi data tengah dengan rumus posisi tengah = (posisi awal + posisi akhir ) div 2\n",
    "3.      Kemudian data yang di cari dibandingkan dengan data tengah\n",
    "a.       Jika sama, data ditemukan, Proses selesai\n",
    "b.      Jika lebih kecil, proses dilakukan kembali tetapi posisi akhir dianggap sama dengan posisi tengah -1\n",
    "c.       Jika lebih besar , proses dilakukan kembali tetapi posisi awal dianggap sama dengan posisi tengah +1.\n",
    "4.      Ulangi langkah kedua hingga data ditemukan , atau tidak ditemukan.\n",
    "5.       Pencarian biner ini akan berakhir jika data ditemukan posisi awal lebih besar dari pada posisi akhir. Jika posisi awal sudah lebih besar dari posisis akhir berarti data tidak diketemukan.\n",
    "\n",
    " Pencarian Biner :\n",
    "a.       Kelebihannya :\n",
    "o   Untuk data dalam jumlah besar, waktu searching lebih cepat\n",
    "o   Beban komputasi lebih kecil\n",
    "b.      Kekuranganya :\n",
    "o   Data harus sudah di-sorting lebih dulu ( dalam keadaan terurut )"
   ]
  }
 ],
 "metadata": {
  "kernelspec": {
   "display_name": "VPython",
   "language": "python",
   "name": "vpython"
  }
 },
 "nbformat": 4,
 "nbformat_minor": 0
}