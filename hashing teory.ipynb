{
 "cells": [
  {
   "cell_type": "raw",
   "metadata": {
    "collapsed": false
   },
   "source": [
    "Hash function (fungsi hash)\n",
    "Fungsi hash adalah fungsi apa saja yang dapat digunakan untuk memetakan sekumpulan data sementara menjadi sekumpulan data dengan ukuran yang tetap, yang dapat ditemukan di tabel hash. Nilai yang dikembalikan oleh fungsi hash disebut nilai hash, kode hash, sum hash, atau sekadar hash.\n",
    "\n",
    "hashing memiliki beberapa persyaratan:\n",
    "\n",
    "Mudah untuk dikomputasi: Hash yang bagus harus ringan untuk proses komputasi dan tidak menjadi algoritme terpisah.\n",
    "Distribusi yang seragam: Hash yang bagus memberikan distribusi yang seragam di seluruh tabel hash sehingga tidak berakhir menjadi clustering.\n",
    "Sedikit collision: Collision terjadi saat sepasang elemen dipetakan ke nilai hash yang sama. Hal ini harus dihindari.Catatan: Sebagus apa pun suatu fungsi hash, collision masih mungkin terjadi. Oleh karena itu, untuk menjaga performa tabel hash, mengelola collision melalui beberapa teknik resolusi collision amat penting untuk dilakukan.\n",
    "Pentingnya fungsi hash yang bagus\n",
    "\n",
    "Mari kita memahami pentingnya fungsi hash yang bagus. Asumsikan Anda harus menyimpan beberapa string dalam tabel hash menggunakan teknik hashing\n",
    "{“abcdef”, “bcdefa”, “cdefab” , “defabc” }.\n",
    "\n",
    "Untuk melakukan komputasi penyimpanan string, gunakan fungsi hash yang menyatakan berikut ini:\n",
    "\n",
    "Indeks untuk string tertentu akan setara dengan jumlah nilai ASCII karakter modulo 599.\n",
    "\n",
    "Karena 599 adalah bilangan prima, hal itu akan mengurangi kemungkinan pengindeksan string yang berbeda (collision). Sangat direkomendasikan untuk menggunakan bilangan prima pada modulo. Nilai ASCII a, b, c, d, e, dan f adalah 97, 98, 99, 100, 101, serta 102 secara berurutan. Karena semua string mengandung karakter yang sama dengan permutasi yang berbeda, totalnya akan menjadi 599.\n",
    "\n",
    "Fungsi hash akan melakukan komputasi indeks yang sama untuk semua string dan string akan disimpan dalam tabel hash dalam format berikut ini. Saat indeks dari semua string sama, Anda dapat membuat daftar pada indeks tersebut dan menyisipkan semua string dalam daftar tersebut."
   ]
  }
 ],
 "metadata": {
  "kernelspec": {
   "display_name": "VPython",
   "language": "python",
   "name": "vpython"
  },
  "language_info": {
   "codemirror_mode": {
    "name": "ipython",
    "version": 3
   },
   "file_extension": ".py",
   "mimetype": "text/x-python",
   "name": "python",
   "nbconvert_exporter": "python",
   "pygments_lexer": "ipython3",
   "version": "3.6.7"
  }
 },
 "nbformat": 4,
 "nbformat_minor": 0
}